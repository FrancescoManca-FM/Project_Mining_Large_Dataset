{
 "cells": [
  {
   "cell_type": "code",
   "execution_count": 84,
   "metadata": {},
   "outputs": [],
   "source": [
    "import numpy as np\n",
    "import pandas as pd\n",
    "from matplotlib import pyplot as plt\n",
    "from sklearn.cluster import KMeans\n",
    "from sklearn.preprocessing import StandardScaler\n",
    "from sklearn.model_selection import train_test_split\n",
    "from sklearn import linear_model\n",
    "from sklearn.linear_model import LinearRegression\n",
    "from sklearn.linear_model import LogisticRegression\n",
    "from sklearn.metrics import classification_report\n",
    "import seaborn as sns\n",
    "#from kmodes.kmodes import KPrototypes\n",
    "import statsmodels.api as sm"
   ]
  },
  {
   "cell_type": "markdown",
   "metadata": {},
   "source": [
    "# Customer Personality Analysis Dataset"
   ]
  },
  {
   "cell_type": "markdown",
   "metadata": {},
   "source": [
    "Load dataset"
   ]
  },
  {
   "cell_type": "code",
   "execution_count": 85,
   "metadata": {},
   "outputs": [],
   "source": [
    "df = pd.read_csv(\"./marketing_campaign.csv\",delimiter=\"\\t\")\n",
    "df.head()\n",
    "df.drop(columns=[\"ID\"], inplace=True)"
   ]
  },
  {
   "cell_type": "code",
   "execution_count": 86,
   "metadata": {},
   "outputs": [
    {
     "name": "stdout",
     "output_type": "stream",
     "text": [
      "<class 'pandas.core.frame.DataFrame'>\n",
      "RangeIndex: 2240 entries, 0 to 2239\n",
      "Data columns (total 28 columns):\n",
      " #   Column               Non-Null Count  Dtype  \n",
      "---  ------               --------------  -----  \n",
      " 0   Year_Birth           2240 non-null   int64  \n",
      " 1   Education            2240 non-null   object \n",
      " 2   Marital_Status       2240 non-null   object \n",
      " 3   Income               2216 non-null   float64\n",
      " 4   Kidhome              2240 non-null   int64  \n",
      " 5   Teenhome             2240 non-null   int64  \n",
      " 6   Dt_Customer          2240 non-null   object \n",
      " 7   Recency              2240 non-null   int64  \n",
      " 8   MntWines             2240 non-null   int64  \n",
      " 9   MntFruits            2240 non-null   int64  \n",
      " 10  MntMeatProducts      2240 non-null   int64  \n",
      " 11  MntFishProducts      2240 non-null   int64  \n",
      " 12  MntSweetProducts     2240 non-null   int64  \n",
      " 13  MntGoldProds         2240 non-null   int64  \n",
      " 14  NumDealsPurchases    2240 non-null   int64  \n",
      " 15  NumWebPurchases      2240 non-null   int64  \n",
      " 16  NumCatalogPurchases  2240 non-null   int64  \n",
      " 17  NumStorePurchases    2240 non-null   int64  \n",
      " 18  NumWebVisitsMonth    2240 non-null   int64  \n",
      " 19  AcceptedCmp3         2240 non-null   int64  \n",
      " 20  AcceptedCmp4         2240 non-null   int64  \n",
      " 21  AcceptedCmp5         2240 non-null   int64  \n",
      " 22  AcceptedCmp1         2240 non-null   int64  \n",
      " 23  AcceptedCmp2         2240 non-null   int64  \n",
      " 24  Complain             2240 non-null   int64  \n",
      " 25  Z_CostContact        2240 non-null   int64  \n",
      " 26  Z_Revenue            2240 non-null   int64  \n",
      " 27  Response             2240 non-null   int64  \n",
      "dtypes: float64(1), int64(24), object(3)\n",
      "memory usage: 490.1+ KB\n"
     ]
    }
   ],
   "source": [
    "df.info()\n",
    "education = np.apply_along_axis(lambda x : \"Education_\"+x, axis=0, arr=df[\"Education\"].unique())\n",
    "marital_status = np.apply_along_axis(lambda x : \"Marital_Status_\"+x, axis=0, arr=df[\"Marital_Status\"].unique())\n"
   ]
  },
  {
   "cell_type": "code",
   "execution_count": 87,
   "metadata": {},
   "outputs": [],
   "source": [
    "#removing duplicates\n",
    "df.drop_duplicates(inplace=True)"
   ]
  },
  {
   "cell_type": "code",
   "execution_count": 88,
   "metadata": {},
   "outputs": [],
   "source": [
    "#removing column year of birth and creating a column age ( age of each person in the moment he/she enroll)\n",
    "df[\"age\"] = (df[\"Dt_Customer\"].apply(lambda x : x.split(\"-\")[2]).astype(int)).to_numpy()-df[\"Year_Birth\"].to_numpy()\n",
    "df.drop(columns=[\"Year_Birth\", \"Dt_Customer\"], inplace=True)"
   ]
  },
  {
   "cell_type": "markdown",
   "metadata": {},
   "source": [
    "The dataset has $2058$ fields. We have some missing values for the attribute \"Income\". We can keep them. We only remove when we consider the attribute income in our analysis."
   ]
  },
  {
   "cell_type": "code",
   "execution_count": 89,
   "metadata": {},
   "outputs": [],
   "source": [
    "df.dropna(inplace=True)"
   ]
  },
  {
   "cell_type": "markdown",
   "metadata": {},
   "source": [
    "## Attributes"
   ]
  },
  {
   "cell_type": "markdown",
   "metadata": {},
   "source": [
    "There are 29 attributes, we can divide them into 4 macro-categories: \n",
    "* People\n",
    "\n",
    "    * ID: Customer's unique identifier\n",
    "    * Year_Birth: Customer's birth year\n",
    "    * Education: Customer's education level\n",
    "    * Marital_Status: Customer's marital status\n",
    "    * Income: Customer's yearly household income\n",
    "    * Kidhome: Number of children in customer's household\n",
    "    * Teenhome: Number of teenagers in customer's household\n",
    "    * Dt_Customer: Date of customer's enrollment with the company\n",
    "    * Recency: Number of days since customer's last purchase\n",
    "    * Complain: 1 if customer complained in the last 2 years, 0 otherwise\n",
    "\n",
    "* Products\n",
    "\n",
    "    * MntWines: Amount spent on wine in last 2 years\n",
    "    * MntFruits: Amount spent on fruits in last 2 years\n",
    "    * MntMeatProducts: Amount spent on meat in last 2 years\n",
    "    * MntFishProducts: Amount spent on fish in last 2 years\n",
    "    * MntSweetProducts: Amount spent on sweets in last 2 years\n",
    "    * MntGoldProds: Amount spent on gold in last 2 years\n",
    "\n",
    "* Promotion\n",
    "\n",
    "    * NumDealsPurchases: Number of purchases made with a discount\n",
    "    * AcceptedCmp1: 1 if customer accepted the offer in the 1st campaign, 0 otherwise\n",
    "    * AcceptedCmp2: 1 if customer accepted the offer in the 2nd campaign, 0 otherwise\n",
    "    * AcceptedCmp3: 1 if customer accepted the offer in the 3rd campaign, 0 otherwise\n",
    "    * AcceptedCmp4: 1 if customer accepted the offer in the 4th campaign, 0 otherwise\n",
    "    * AcceptedCmp5: 1 if customer accepted the offer in the 5th campaign, 0 otherwise\n",
    "    * Response: 1 if customer accepted the offer in the last campaign, 0 otherwise\n",
    "\n",
    "* Place\n",
    "\n",
    "    * NumWebPurchases: Number of purchases made through the company’s web site\n",
    "    * NumCatalogPurchases: Number of purchases made using a catalogue\n",
    "    * NumStorePurchases: Number of purchases made directly in stores\n",
    "    * NumWebVisitsMonth: Number of visits to company’s web site in the last month"
   ]
  },
  {
   "cell_type": "markdown",
   "metadata": {},
   "source": [
    "## Exploring data (people)"
   ]
  },
  {
   "cell_type": "code",
   "execution_count": 90,
   "metadata": {},
   "outputs": [
    {
     "data": {
      "image/png": "[encoded data removed]",
      "text/plain": [
       "<Figure size 432x288 with 1 Axes>"
      ]
     },
     "metadata": {
      "needs_background": "light"
     },
     "output_type": "display_data"
    }
   ],
   "source": [
    "import matplotlib.pyplot as plt\n",
    "plt.hist(df['age'],bins=\"auto\");"
   ]
  },
  {
   "cell_type": "markdown",
   "metadata": {},
   "source": [
    "There are two outliers: they are probably data entry errors (human errors while collecting data). We remove them."
   ]
  },
  {
   "cell_type": "code",
   "execution_count": 91,
   "metadata": {},
   "outputs": [
    {
     "data": {
      "image/png": "[encoded data removed]",
      "text/plain": [
       "<Figure size 432x288 with 1 Axes>"
      ]
     },
     "metadata": {
      "needs_background": "light"
     },
     "output_type": "display_data"
    }
   ],
   "source": [
    "mask = df['age'] < 90\n",
    "df = df[mask]\n",
    "plt.hist(df['age'],bins=\"auto\");"
   ]
  },
  {
   "cell_type": "code",
   "execution_count": 92,
   "metadata": {},
   "outputs": [
    {
     "data": {
      "image/png": "[encoded data removed]",
      "text/plain": [
       "<Figure size 432x288 with 1 Axes>"
      ]
     },
     "metadata": {
      "needs_background": "light"
     },
     "output_type": "display_data"
    }
   ],
   "source": [
    "plt.hist(df['Education'],bins=\"auto\");"
   ]
  },
  {
   "cell_type": "code",
   "execution_count": 93,
   "metadata": {
    "scrolled": true
   },
   "outputs": [
    {
     "data": {
      "image/png": "[encoded data removed]",
      "text/plain": [
       "<Figure size 432x288 with 1 Axes>"
      ]
     },
     "metadata": {
      "needs_background": "light"
     },
     "output_type": "display_data"
    }
   ],
   "source": [
    "plt.hist(df['Marital_Status'],bins=\"auto\");"
   ]
  },
  {
   "cell_type": "markdown",
   "metadata": {},
   "source": [
    "From the histogram we can see strange values such as 'Alone', 'Absurd', 'YOLO', we assume that are human errors and we can remove them without affecting our analysis."
   ]
  },
  {
   "cell_type": "code",
   "execution_count": 94,
   "metadata": {},
   "outputs": [
    {
     "data": {
      "image/png": "[encoded data removed]",
      "text/plain": [
       "<Figure size 432x288 with 1 Axes>"
      ]
     },
     "metadata": {
      "needs_background": "light"
     },
     "output_type": "display_data"
    }
   ],
   "source": [
    "alone = df['Marital_Status'] == 'Alone'\n",
    "df = df[~alone]\n",
    "absurd = df['Marital_Status'] == 'Absurd'\n",
    "df = df[~absurd]\n",
    "yolo =  df['Marital_Status'] == 'YOLO'\n",
    "df = df[~yolo]\n",
    "plt.hist(df['Marital_Status'],bins=\"auto\");"
   ]
  },
  {
   "cell_type": "code",
   "execution_count": 95,
   "metadata": {},
   "outputs": [
    {
     "data": {
      "image/png": "[encoded data removed]",
      "text/plain": [
       "<Figure size 432x288 with 1 Axes>"
      ]
     },
     "metadata": {
      "needs_background": "light"
     },
     "output_type": "display_data"
    }
   ],
   "source": [
    "plt.hist(df['Income'],bins=\"auto\");"
   ]
  },
  {
   "cell_type": "markdown",
   "metadata": {},
   "source": [
    "There's one value with income = 666666, since it's an outlier and many algorithms are sensitive to outliers we remove it."
   ]
  },
  {
   "cell_type": "code",
   "execution_count": 96,
   "metadata": {},
   "outputs": [
    {
     "data": {
      "image/png": "[encoded data removed]",
      "text/plain": [
       "<Figure size 432x288 with 1 Axes>"
      ]
     },
     "metadata": {
      "needs_background": "light"
     },
     "output_type": "display_data"
    }
   ],
   "source": [
    "income = df['Income'] > 200000\n",
    "df = df[~income]\n",
    "plt.hist(df['Income'],bins=\"auto\");"
   ]
  },
  {
   "cell_type": "code",
   "execution_count": 97,
   "metadata": {},
   "outputs": [
    {
     "data": {
      "image/png": "[encoded data removed]",
      "text/plain": [
       "<Figure size 432x288 with 1 Axes>"
      ]
     },
     "metadata": {
      "needs_background": "light"
     },
     "output_type": "display_data"
    }
   ],
   "source": [
    "plt.hist(df['Kidhome'],bins=\"auto\");"
   ]
  },
  {
   "cell_type": "code",
   "execution_count": 98,
   "metadata": {},
   "outputs": [
    {
     "data": {
      "image/png": "[encoded data removed]",
      "text/plain": [
       "<Figure size 432x288 with 1 Axes>"
      ]
     },
     "metadata": {
      "needs_background": "light"
     },
     "output_type": "display_data"
    }
   ],
   "source": [
    "plt.hist(df['Teenhome'],bins=\"auto\");"
   ]
  },
  {
   "cell_type": "code",
   "execution_count": 99,
   "metadata": {},
   "outputs": [
    {
     "data": {
      "image/png": "[encoded data removed]",
      "text/plain": [
       "<Figure size 432x288 with 1 Axes>"
      ]
     },
     "metadata": {
      "needs_background": "light"
     },
     "output_type": "display_data"
    }
   ],
   "source": [
    "plt.hist(df['Recency'],bins=\"auto\");"
   ]
  },
  {
   "cell_type": "code",
   "execution_count": 100,
   "metadata": {},
   "outputs": [
    {
     "data": {
      "image/png": "[encoded data removed]",
      "text/plain": [
       "<Figure size 432x288 with 1 Axes>"
      ]
     },
     "metadata": {
      "needs_background": "light"
     },
     "output_type": "display_data"
    }
   ],
   "source": [
    "plt.hist(df['Complain'],bins=\"auto\");"
   ]
  },
  {
   "cell_type": "markdown",
   "metadata": {},
   "source": [
    "## Exploring data (Products)"
   ]
  },
  {
   "cell_type": "code",
   "execution_count": 101,
   "metadata": {},
   "outputs": [
    {
     "data": {
      "text/plain": [
       "Text(0, 0.5, 'freq')"
      ]
     },
     "execution_count": 101,
     "metadata": {},
     "output_type": "execute_result"
    },
    {
     "data": {
      "image/png": "[encoded data removed]",
      "text/plain": [
       "<Figure size 432x288 with 1 Axes>"
      ]
     },
     "metadata": {
      "needs_background": "light"
     },
     "output_type": "display_data"
    },
    {
     "data": {
      "image/png": "[encoded data removed]",
      "text/plain": [
       "<Figure size 432x288 with 1 Axes>"
      ]
     },
     "metadata": {
      "needs_background": "light"
     },
     "output_type": "display_data"
    },
    {
     "data": {
      "image/png": "[encoded data removed]",
      "text/plain": [
       "<Figure size 432x288 with 1 Axes>"
      ]
     },
     "metadata": {
      "needs_background": "light"
     },
     "output_type": "display_data"
    },
    {
     "data": {
      "image/png": "[encoded data removed]",
      "text/plain": [
       "<Figure size 432x288 with 1 Axes>"
      ]
     },
     "metadata": {
      "needs_background": "light"
     },
     "output_type": "display_data"
    },
    {
     "data": {
      "image/png": "[encoded data removed]",
      "text/plain": [
       "<Figure size 432x288 with 1 Axes>"
      ]
     },
     "metadata": {
      "needs_background": "light"
     },
     "output_type": "display_data"
    },
    {
     "data": {
      "image/png": "[encoded data removed]",
      "text/plain": [
       "<Figure size 432x288 with 1 Axes>"
      ]
     },
     "metadata": {
      "needs_background": "light"
     },
     "output_type": "display_data"
    }
   ],
   "source": [
    "plt.figure(1)\n",
    "plt.hist(df['MntWines'],bins=\"auto\");\n",
    "plt.xlabel(\"Amount of wines purchased in last 2 years\")\n",
    "plt.ylabel(\"freq\")\n",
    "\n",
    "plt.figure(2)\n",
    "plt.hist(df['MntFruits'],bins=\"auto\");\n",
    "plt.xlabel(\"Amount of fruits purchased in last 2 years\")\n",
    "plt.ylabel(\"freq\")\n",
    "\n",
    "plt.figure(3)\n",
    "plt.hist(df['MntMeatProducts'],bins=\"auto\");\n",
    "plt.xlabel(\"Amount of meat purchased in last 2 years\")\n",
    "plt.ylabel(\"freq\")\n",
    "\n",
    "plt.figure(4)\n",
    "plt.hist(df['MntFishProducts'],bins=\"auto\");\n",
    "plt.xlabel(\"Amount of fish purchased in last 2 years\")\n",
    "plt.ylabel(\"freq\")\n",
    "\n",
    "plt.figure(5)\n",
    "plt.hist(df['MntSweetProducts'],bins=\"auto\");\n",
    "plt.xlabel(\"Amount of sweet purchased in last 2 years\")\n",
    "plt.ylabel(\"freq\")\n",
    "\n",
    "plt.figure(6)\n",
    "plt.hist(df['MntGoldProds'],bins=\"auto\");\n",
    "plt.xlabel(\"Amount of gold purchased in last 2 years\")\n",
    "plt.ylabel(\"freq\")"
   ]
  },
  {
   "cell_type": "code",
   "execution_count": 102,
   "metadata": {},
   "outputs": [
    {
     "data": {
      "image/png": "[encoded data removed]",
      "text/plain": [
       "<Figure size 432x288 with 1 Axes>"
      ]
     },
     "metadata": {
      "needs_background": "light"
     },
     "output_type": "display_data"
    }
   ],
   "source": [
    "w = df['MntWines'].sum()\n",
    "f = df['MntFruits'].sum()\n",
    "m = df['MntMeatProducts'].sum()\n",
    "fi = df['MntFishProducts'].sum()\n",
    "s = df['MntSweetProducts'].sum()\n",
    "g = df['MntGoldProds'].sum()\n",
    "y = np.array([w,f,m,fi,s,g])\n",
    "x = np.array([\"Wines\",\"Fruits\",\"Meat\",\"Fish\",\"Sweet\",\"Gold\"])\n",
    "plt.ylabel(\"Total amount spent\")\n",
    "plt.bar(x,y);"
   ]
  },
  {
   "cell_type": "markdown",
   "metadata": {},
   "source": [
    "## Exploring data (Purchases)"
   ]
  },
  {
   "cell_type": "code",
   "execution_count": 103,
   "metadata": {},
   "outputs": [
    {
     "data": {
      "text/plain": [
       "Text(0, 0.5, 'freq')"
      ]
     },
     "execution_count": 103,
     "metadata": {},
     "output_type": "execute_result"
    },
    {
     "data": {
      "image/png": "[encoded data removed]",
      "text/plain": [
       "<Figure size 432x288 with 1 Axes>"
      ]
     },
     "metadata": {
      "needs_background": "light"
     },
     "output_type": "display_data"
    },
    {
     "data": {
      "image/png": "[encoded data removed]",
      "text/plain": [
       "<Figure size 432x288 with 1 Axes>"
      ]
     },
     "metadata": {
      "needs_background": "light"
     },
     "output_type": "display_data"
    },
    {
     "data": {
      "image/png": "[encoded data removed]",
      "text/plain": [
       "<Figure size 432x288 with 1 Axes>"
      ]
     },
     "metadata": {
      "needs_background": "light"
     },
     "output_type": "display_data"
    },
    {
     "data": {
      "image/png": "[encoded data removed]",
      "text/plain": [
       "<Figure size 432x288 with 1 Axes>"
      ]
     },
     "metadata": {
      "needs_background": "light"
     },
     "output_type": "display_data"
    },
    {
     "data": {
      "image/png": "[encoded data removed]",
      "text/plain": [
       "<Figure size 432x288 with 1 Axes>"
      ]
     },
     "metadata": {
      "needs_background": "light"
     },
     "output_type": "display_data"
    }
   ],
   "source": [
    "plt.figure(1)\n",
    "plt.hist(df['NumWebPurchases'],bins=\"auto\");\n",
    "plt.xlabel(\"Purchases made through the web site\")\n",
    "plt.ylabel(\"freq\")\n",
    "\n",
    "plt.figure(2)\n",
    "plt.hist(df['NumCatalogPurchases'],bins=\"auto\");\n",
    "plt.xlabel(\"Purchases made through the catalogue\")\n",
    "plt.ylabel(\"freq\")\n",
    "\n",
    "plt.figure(3)\n",
    "plt.hist(df['NumStorePurchases'],bins=\"auto\");\n",
    "plt.xlabel(\"Purchases made in stores\")\n",
    "plt.ylabel(\"freq\")\n",
    "\n",
    "plt.figure(4)\n",
    "plt.hist(df['NumWebVisitsMonth'],bins=\"auto\");\n",
    "plt.xlabel(\"Number of visits to company's web site in the last month\")\n",
    "plt.ylabel(\"freq\")\n",
    "\n",
    "plt.figure(5)\n",
    "plt.hist((df['NumWebPurchases'].to_numpy()+df['NumStorePurchases'].to_numpy()),bins=\"auto\");\n",
    "plt.xlabel(\"Number of visits to company's web site in the last month\")\n",
    "plt.ylabel(\"freq\")"
   ]
  },
  {
   "cell_type": "code",
   "execution_count": 104,
   "metadata": {},
   "outputs": [
    {
     "data": {
      "text/plain": [
       "<BarContainer object of 2 artists>"
      ]
     },
     "execution_count": 104,
     "metadata": {},
     "output_type": "execute_result"
    },
    {
     "data": {
      "image/png": "[encoded data removed]",
      "text/plain": [
       "<Figure size 432x288 with 1 Axes>"
      ]
     },
     "metadata": {
      "needs_background": "light"
     },
     "output_type": "display_data"
    }
   ],
   "source": [
    "plt.bar(np.array([\"totNumWebPurchases\",\"totNumStorePurchases\"]),np.array([df[\"NumWebPurchases\"].sum(), df[\"NumStorePurchases\"].sum()]))"
   ]
  },
  {
   "cell_type": "markdown",
   "metadata": {},
   "source": [
    "## Preprocessing Data"
   ]
  },
  {
   "cell_type": "code",
   "execution_count": 105,
   "metadata": {},
   "outputs": [
    {
     "data": {
      "text/html": [
       "<div>\n",
       "<style scoped>\n",
       "    .dataframe tbody tr th:only-of-type {\n",
       "        vertical-align: middle;\n",
       "    }\n",
       "\n",
       "    .dataframe tbody tr th {\n",
       "        vertical-align: top;\n",
       "    }\n",
       "\n",
       "    .dataframe thead th {\n",
       "        text-align: right;\n",
       "    }\n",
       "</style>\n",
       "<table border=\"1\" class=\"dataframe\">\n",
       "  <thead>\n",
       "    <tr style=\"text-align: right;\">\n",
       "      <th></th>\n",
       "      <th>Education</th>\n",
       "      <th>Marital_Status</th>\n",
       "      <th>Income</th>\n",
       "      <th>Kidhome</th>\n",
       "      <th>Teenhome</th>\n",
       "      <th>Recency</th>\n",
       "      <th>MntWines</th>\n",
       "      <th>MntFruits</th>\n",
       "      <th>MntMeatProducts</th>\n",
       "      <th>MntFishProducts</th>\n",
       "      <th>...</th>\n",
       "      <th>AcceptedCmp3</th>\n",
       "      <th>AcceptedCmp4</th>\n",
       "      <th>AcceptedCmp5</th>\n",
       "      <th>AcceptedCmp1</th>\n",
       "      <th>AcceptedCmp2</th>\n",
       "      <th>Complain</th>\n",
       "      <th>Z_CostContact</th>\n",
       "      <th>Z_Revenue</th>\n",
       "      <th>Response</th>\n",
       "      <th>age</th>\n",
       "    </tr>\n",
       "  </thead>\n",
       "  <tbody>\n",
       "  </tbody>\n",
       "</table>\n",
       "<p>0 rows × 27 columns</p>\n",
       "</div>"
      ],
      "text/plain": [
       "Empty DataFrame\n",
       "Columns: [Education, Marital_Status, Income, Kidhome, Teenhome, Recency, MntWines, MntFruits, MntMeatProducts, MntFishProducts, MntSweetProducts, MntGoldProds, NumDealsPurchases, NumWebPurchases, NumCatalogPurchases, NumStorePurchases, NumWebVisitsMonth, AcceptedCmp3, AcceptedCmp4, AcceptedCmp5, AcceptedCmp1, AcceptedCmp2, Complain, Z_CostContact, Z_Revenue, Response, age]\n",
       "Index: []\n",
       "\n",
       "[0 rows x 27 columns]"
      ]
     },
     "execution_count": 105,
     "metadata": {},
     "output_type": "execute_result"
    }
   ],
   "source": [
    "df[df[\"Income\"].isna()]"
   ]
  },
  {
   "cell_type": "markdown",
   "metadata": {},
   "source": [
    "### Standard Scaler"
   ]
  },
  {
   "cell_type": "code",
   "execution_count": 106,
   "metadata": {},
   "outputs": [],
   "source": [
    "df[\"Marital_Status\"].replace(to_replace=[\"Together\",\"Married\"], value = \"couple\",inplace=True)\n",
    "df[\"Marital_Status\"].replace(to_replace=[\"Single\",\"Divorced\",\"Widow\"], value = \"single\",inplace=True)\n",
    "df['Children']=df['Kidhome']+df['Teenhome']\n",
    "df['Has_child'] = np.where(df.Children> 0, 'Has child', 'No child')\n",
    "df['Education']=df['Education'].replace({'Basic':'Undergraduate','2n Cycle':'Undergraduate','Graduation':'Postgraduate','Master':'Postgraduate','PhD':'Postgraduate'})\n",
    "df[\"Total_Spent\"] = df[\"MntWines\"] + df[\"MntMeatProducts\"] + df[\"MntFruits\"] + df[\"MntFishProducts\"] + df[\"MntSweetProducts\"] + df[\"MntGoldProds\"]\n",
    "\n",
    "# plt.hist(df['Education'],bins=\"auto\");"
   ]
  },
  {
   "cell_type": "code",
   "execution_count": 107,
   "metadata": {},
   "outputs": [
    {
     "data": {
      "text/html": [
       "<div>\n",
       "<style scoped>\n",
       "    .dataframe tbody tr th:only-of-type {\n",
       "        vertical-align: middle;\n",
       "    }\n",
       "\n",
       "    .dataframe tbody tr th {\n",
       "        vertical-align: top;\n",
       "    }\n",
       "\n",
       "    .dataframe thead th {\n",
       "        text-align: right;\n",
       "    }\n",
       "</style>\n",
       "<table border=\"1\" class=\"dataframe\">\n",
       "  <thead>\n",
       "    <tr style=\"text-align: right;\">\n",
       "      <th></th>\n",
       "      <th>Education</th>\n",
       "      <th>Marital_Status</th>\n",
       "      <th>Income</th>\n",
       "      <th>Kidhome</th>\n",
       "      <th>Teenhome</th>\n",
       "      <th>Recency</th>\n",
       "      <th>MntWines</th>\n",
       "      <th>MntFruits</th>\n",
       "      <th>MntMeatProducts</th>\n",
       "      <th>MntFishProducts</th>\n",
       "      <th>...</th>\n",
       "      <th>AcceptedCmp1</th>\n",
       "      <th>AcceptedCmp2</th>\n",
       "      <th>Complain</th>\n",
       "      <th>Z_CostContact</th>\n",
       "      <th>Z_Revenue</th>\n",
       "      <th>Response</th>\n",
       "      <th>age</th>\n",
       "      <th>Children</th>\n",
       "      <th>Has_child</th>\n",
       "      <th>Total_Spent</th>\n",
       "    </tr>\n",
       "  </thead>\n",
       "  <tbody>\n",
       "    <tr>\n",
       "      <th>0</th>\n",
       "      <td>Postgraduate</td>\n",
       "      <td>single</td>\n",
       "      <td>58138.0</td>\n",
       "      <td>0</td>\n",
       "      <td>0</td>\n",
       "      <td>58</td>\n",
       "      <td>635</td>\n",
       "      <td>88</td>\n",
       "      <td>546</td>\n",
       "      <td>172</td>\n",
       "      <td>...</td>\n",
       "      <td>0</td>\n",
       "      <td>0</td>\n",
       "      <td>0</td>\n",
       "      <td>3</td>\n",
       "      <td>11</td>\n",
       "      <td>1</td>\n",
       "      <td>55</td>\n",
       "      <td>0</td>\n",
       "      <td>No child</td>\n",
       "      <td>1617</td>\n",
       "    </tr>\n",
       "    <tr>\n",
       "      <th>1</th>\n",
       "      <td>Postgraduate</td>\n",
       "      <td>single</td>\n",
       "      <td>46344.0</td>\n",
       "      <td>1</td>\n",
       "      <td>1</td>\n",
       "      <td>38</td>\n",
       "      <td>11</td>\n",
       "      <td>1</td>\n",
       "      <td>6</td>\n",
       "      <td>2</td>\n",
       "      <td>...</td>\n",
       "      <td>0</td>\n",
       "      <td>0</td>\n",
       "      <td>0</td>\n",
       "      <td>3</td>\n",
       "      <td>11</td>\n",
       "      <td>0</td>\n",
       "      <td>60</td>\n",
       "      <td>2</td>\n",
       "      <td>Has child</td>\n",
       "      <td>27</td>\n",
       "    </tr>\n",
       "    <tr>\n",
       "      <th>2</th>\n",
       "      <td>Postgraduate</td>\n",
       "      <td>couple</td>\n",
       "      <td>71613.0</td>\n",
       "      <td>0</td>\n",
       "      <td>0</td>\n",
       "      <td>26</td>\n",
       "      <td>426</td>\n",
       "      <td>49</td>\n",
       "      <td>127</td>\n",
       "      <td>111</td>\n",
       "      <td>...</td>\n",
       "      <td>0</td>\n",
       "      <td>0</td>\n",
       "      <td>0</td>\n",
       "      <td>3</td>\n",
       "      <td>11</td>\n",
       "      <td>0</td>\n",
       "      <td>48</td>\n",
       "      <td>0</td>\n",
       "      <td>No child</td>\n",
       "      <td>776</td>\n",
       "    </tr>\n",
       "    <tr>\n",
       "      <th>3</th>\n",
       "      <td>Postgraduate</td>\n",
       "      <td>couple</td>\n",
       "      <td>26646.0</td>\n",
       "      <td>1</td>\n",
       "      <td>0</td>\n",
       "      <td>26</td>\n",
       "      <td>11</td>\n",
       "      <td>4</td>\n",
       "      <td>20</td>\n",
       "      <td>10</td>\n",
       "      <td>...</td>\n",
       "      <td>0</td>\n",
       "      <td>0</td>\n",
       "      <td>0</td>\n",
       "      <td>3</td>\n",
       "      <td>11</td>\n",
       "      <td>0</td>\n",
       "      <td>30</td>\n",
       "      <td>1</td>\n",
       "      <td>Has child</td>\n",
       "      <td>53</td>\n",
       "    </tr>\n",
       "    <tr>\n",
       "      <th>4</th>\n",
       "      <td>Postgraduate</td>\n",
       "      <td>couple</td>\n",
       "      <td>58293.0</td>\n",
       "      <td>1</td>\n",
       "      <td>0</td>\n",
       "      <td>94</td>\n",
       "      <td>173</td>\n",
       "      <td>43</td>\n",
       "      <td>118</td>\n",
       "      <td>46</td>\n",
       "      <td>...</td>\n",
       "      <td>0</td>\n",
       "      <td>0</td>\n",
       "      <td>0</td>\n",
       "      <td>3</td>\n",
       "      <td>11</td>\n",
       "      <td>0</td>\n",
       "      <td>33</td>\n",
       "      <td>1</td>\n",
       "      <td>Has child</td>\n",
       "      <td>422</td>\n",
       "    </tr>\n",
       "    <tr>\n",
       "      <th>...</th>\n",
       "      <td>...</td>\n",
       "      <td>...</td>\n",
       "      <td>...</td>\n",
       "      <td>...</td>\n",
       "      <td>...</td>\n",
       "      <td>...</td>\n",
       "      <td>...</td>\n",
       "      <td>...</td>\n",
       "      <td>...</td>\n",
       "      <td>...</td>\n",
       "      <td>...</td>\n",
       "      <td>...</td>\n",
       "      <td>...</td>\n",
       "      <td>...</td>\n",
       "      <td>...</td>\n",
       "      <td>...</td>\n",
       "      <td>...</td>\n",
       "      <td>...</td>\n",
       "      <td>...</td>\n",
       "      <td>...</td>\n",
       "      <td>...</td>\n",
       "    </tr>\n",
       "    <tr>\n",
       "      <th>2232</th>\n",
       "      <td>Postgraduate</td>\n",
       "      <td>single</td>\n",
       "      <td>26816.0</td>\n",
       "      <td>0</td>\n",
       "      <td>0</td>\n",
       "      <td>50</td>\n",
       "      <td>5</td>\n",
       "      <td>1</td>\n",
       "      <td>6</td>\n",
       "      <td>3</td>\n",
       "      <td>...</td>\n",
       "      <td>0</td>\n",
       "      <td>0</td>\n",
       "      <td>0</td>\n",
       "      <td>3</td>\n",
       "      <td>11</td>\n",
       "      <td>0</td>\n",
       "      <td>26</td>\n",
       "      <td>0</td>\n",
       "      <td>No child</td>\n",
       "      <td>22</td>\n",
       "    </tr>\n",
       "    <tr>\n",
       "      <th>2235</th>\n",
       "      <td>Postgraduate</td>\n",
       "      <td>couple</td>\n",
       "      <td>61223.0</td>\n",
       "      <td>0</td>\n",
       "      <td>1</td>\n",
       "      <td>46</td>\n",
       "      <td>709</td>\n",
       "      <td>43</td>\n",
       "      <td>182</td>\n",
       "      <td>42</td>\n",
       "      <td>...</td>\n",
       "      <td>0</td>\n",
       "      <td>0</td>\n",
       "      <td>0</td>\n",
       "      <td>3</td>\n",
       "      <td>11</td>\n",
       "      <td>0</td>\n",
       "      <td>46</td>\n",
       "      <td>1</td>\n",
       "      <td>Has child</td>\n",
       "      <td>1341</td>\n",
       "    </tr>\n",
       "    <tr>\n",
       "      <th>2237</th>\n",
       "      <td>Postgraduate</td>\n",
       "      <td>single</td>\n",
       "      <td>56981.0</td>\n",
       "      <td>0</td>\n",
       "      <td>0</td>\n",
       "      <td>91</td>\n",
       "      <td>908</td>\n",
       "      <td>48</td>\n",
       "      <td>217</td>\n",
       "      <td>32</td>\n",
       "      <td>...</td>\n",
       "      <td>0</td>\n",
       "      <td>0</td>\n",
       "      <td>0</td>\n",
       "      <td>3</td>\n",
       "      <td>11</td>\n",
       "      <td>0</td>\n",
       "      <td>33</td>\n",
       "      <td>0</td>\n",
       "      <td>No child</td>\n",
       "      <td>1241</td>\n",
       "    </tr>\n",
       "    <tr>\n",
       "      <th>2238</th>\n",
       "      <td>Postgraduate</td>\n",
       "      <td>couple</td>\n",
       "      <td>69245.0</td>\n",
       "      <td>0</td>\n",
       "      <td>1</td>\n",
       "      <td>8</td>\n",
       "      <td>428</td>\n",
       "      <td>30</td>\n",
       "      <td>214</td>\n",
       "      <td>80</td>\n",
       "      <td>...</td>\n",
       "      <td>0</td>\n",
       "      <td>0</td>\n",
       "      <td>0</td>\n",
       "      <td>3</td>\n",
       "      <td>11</td>\n",
       "      <td>0</td>\n",
       "      <td>58</td>\n",
       "      <td>1</td>\n",
       "      <td>Has child</td>\n",
       "      <td>843</td>\n",
       "    </tr>\n",
       "    <tr>\n",
       "      <th>2239</th>\n",
       "      <td>Postgraduate</td>\n",
       "      <td>couple</td>\n",
       "      <td>52869.0</td>\n",
       "      <td>1</td>\n",
       "      <td>1</td>\n",
       "      <td>40</td>\n",
       "      <td>84</td>\n",
       "      <td>3</td>\n",
       "      <td>61</td>\n",
       "      <td>2</td>\n",
       "      <td>...</td>\n",
       "      <td>0</td>\n",
       "      <td>0</td>\n",
       "      <td>0</td>\n",
       "      <td>3</td>\n",
       "      <td>11</td>\n",
       "      <td>1</td>\n",
       "      <td>58</td>\n",
       "      <td>2</td>\n",
       "      <td>Has child</td>\n",
       "      <td>172</td>\n",
       "    </tr>\n",
       "  </tbody>\n",
       "</table>\n",
       "<p>2023 rows × 30 columns</p>\n",
       "</div>"
      ],
      "text/plain": [
       "         Education Marital_Status   Income  Kidhome  Teenhome  Recency  \\\n",
       "0     Postgraduate         single  58138.0        0         0       58   \n",
       "1     Postgraduate         single  46344.0        1         1       38   \n",
       "2     Postgraduate         couple  71613.0        0         0       26   \n",
       "3     Postgraduate         couple  26646.0        1         0       26   \n",
       "4     Postgraduate         couple  58293.0        1         0       94   \n",
       "...            ...            ...      ...      ...       ...      ...   \n",
       "2232  Postgraduate         single  26816.0        0         0       50   \n",
       "2235  Postgraduate         couple  61223.0        0         1       46   \n",
       "2237  Postgraduate         single  56981.0        0         0       91   \n",
       "2238  Postgraduate         couple  69245.0        0         1        8   \n",
       "2239  Postgraduate         couple  52869.0        1         1       40   \n",
       "\n",
       "      MntWines  MntFruits  MntMeatProducts  MntFishProducts  ...  \\\n",
       "0          635         88              546              172  ...   \n",
       "1           11          1                6                2  ...   \n",
       "2          426         49              127              111  ...   \n",
       "3           11          4               20               10  ...   \n",
       "4          173         43              118               46  ...   \n",
       "...        ...        ...              ...              ...  ...   \n",
       "2232         5          1                6                3  ...   \n",
       "2235       709         43              182               42  ...   \n",
       "2237       908         48              217               32  ...   \n",
       "2238       428         30              214               80  ...   \n",
       "2239        84          3               61                2  ...   \n",
       "\n",
       "      AcceptedCmp1  AcceptedCmp2  Complain  Z_CostContact  Z_Revenue  \\\n",
       "0                0             0         0              3         11   \n",
       "1                0             0         0              3         11   \n",
       "2                0             0         0              3         11   \n",
       "3                0             0         0              3         11   \n",
       "4                0             0         0              3         11   \n",
       "...            ...           ...       ...            ...        ...   \n",
       "2232             0             0         0              3         11   \n",
       "2235             0             0         0              3         11   \n",
       "2237             0             0         0              3         11   \n",
       "2238             0             0         0              3         11   \n",
       "2239             0             0         0              3         11   \n",
       "\n",
       "      Response  age  Children  Has_child  Total_Spent  \n",
       "0            1   55         0   No child         1617  \n",
       "1            0   60         2  Has child           27  \n",
       "2            0   48         0   No child          776  \n",
       "3            0   30         1  Has child           53  \n",
       "4            0   33         1  Has child          422  \n",
       "...        ...  ...       ...        ...          ...  \n",
       "2232         0   26         0   No child           22  \n",
       "2235         0   46         1  Has child         1341  \n",
       "2237         0   33         0   No child         1241  \n",
       "2238         0   58         1  Has child          843  \n",
       "2239         1   58         2  Has child          172  \n",
       "\n",
       "[2023 rows x 30 columns]"
      ]
     },
     "execution_count": 107,
     "metadata": {},
     "output_type": "execute_result"
    }
   ],
   "source": [
    "df"
   ]
  },
  {
   "cell_type": "code",
   "execution_count": 108,
   "metadata": {},
   "outputs": [],
   "source": [
    "columns_to_scale = [\"Income\",\"Total_Spent\",\"Kidhome\", \"Teenhome\",\"Children\", \"Recency\", \"MntWines\", \"MntFruits\",\n",
    "                  \"MntMeatProducts\", \"MntFishProducts\", \"MntSweetProducts\", \"MntGoldProds\",\n",
    "                  \"NumDealsPurchases\", \"NumWebPurchases\", \"NumCatalogPurchases\", \"NumStorePurchases\", \"NumWebVisitsMonth\", \"age\"]\n",
    "df_to_scale = df[columns_to_scale]"
   ]
  },
  {
   "cell_type": "code",
   "execution_count": 109,
   "metadata": {},
   "outputs": [
    {
     "data": {
      "text/html": [
       "<div>\n",
       "<style scoped>\n",
       "    .dataframe tbody tr th:only-of-type {\n",
       "        vertical-align: middle;\n",
       "    }\n",
       "\n",
       "    .dataframe tbody tr th {\n",
       "        vertical-align: top;\n",
       "    }\n",
       "\n",
       "    .dataframe thead th {\n",
       "        text-align: right;\n",
       "    }\n",
       "</style>\n",
       "<table border=\"1\" class=\"dataframe\">\n",
       "  <thead>\n",
       "    <tr style=\"text-align: right;\">\n",
       "      <th></th>\n",
       "      <th>Income</th>\n",
       "      <th>Total_Spent</th>\n",
       "      <th>Kidhome</th>\n",
       "      <th>Teenhome</th>\n",
       "      <th>Children</th>\n",
       "      <th>Recency</th>\n",
       "      <th>MntWines</th>\n",
       "      <th>MntFruits</th>\n",
       "      <th>MntMeatProducts</th>\n",
       "      <th>MntFishProducts</th>\n",
       "      <th>MntSweetProducts</th>\n",
       "      <th>MntGoldProds</th>\n",
       "      <th>NumDealsPurchases</th>\n",
       "      <th>NumWebPurchases</th>\n",
       "      <th>NumCatalogPurchases</th>\n",
       "      <th>NumStorePurchases</th>\n",
       "      <th>NumWebVisitsMonth</th>\n",
       "      <th>age</th>\n",
       "    </tr>\n",
       "  </thead>\n",
       "  <tbody>\n",
       "    <tr>\n",
       "      <th>0</th>\n",
       "      <td>0.282276</td>\n",
       "      <td>1.672015</td>\n",
       "      <td>-0.826350</td>\n",
       "      <td>-0.931201</td>\n",
       "      <td>-1.275874</td>\n",
       "      <td>0.313400</td>\n",
       "      <td>0.975903</td>\n",
       "      <td>1.554520</td>\n",
       "      <td>1.666131</td>\n",
       "      <td>2.464957</td>\n",
       "      <td>1.462986</td>\n",
       "      <td>0.862602</td>\n",
       "      <td>0.343988</td>\n",
       "      <td>1.415762</td>\n",
       "      <td>2.495446</td>\n",
       "      <td>-0.552040</td>\n",
       "      <td>0.687328</td>\n",
       "      <td>0.928690</td>\n",
       "    </tr>\n",
       "    <tr>\n",
       "      <th>1</th>\n",
       "      <td>-0.263617</td>\n",
       "      <td>-0.962704</td>\n",
       "      <td>1.039393</td>\n",
       "      <td>0.899527</td>\n",
       "      <td>1.405781</td>\n",
       "      <td>-0.376940</td>\n",
       "      <td>-0.872284</td>\n",
       "      <td>-0.636079</td>\n",
       "      <td>-0.713963</td>\n",
       "      <td>-0.647645</td>\n",
       "      <td>-0.630813</td>\n",
       "      <td>-0.731738</td>\n",
       "      <td>-0.173016</td>\n",
       "      <td>-1.124609</td>\n",
       "      <td>-0.569281</td>\n",
       "      <td>-1.168872</td>\n",
       "      <td>-0.133247</td>\n",
       "      <td>1.356396</td>\n",
       "    </tr>\n",
       "    <tr>\n",
       "      <th>2</th>\n",
       "      <td>0.905975</td>\n",
       "      <td>0.278430</td>\n",
       "      <td>-0.826350</td>\n",
       "      <td>-0.931201</td>\n",
       "      <td>-1.275874</td>\n",
       "      <td>-0.791144</td>\n",
       "      <td>0.356879</td>\n",
       "      <td>0.572527</td>\n",
       "      <td>-0.180645</td>\n",
       "      <td>1.348082</td>\n",
       "      <td>-0.149480</td>\n",
       "      <td>-0.031784</td>\n",
       "      <td>-0.690021</td>\n",
       "      <td>1.415762</td>\n",
       "      <td>-0.228756</td>\n",
       "      <td>1.298459</td>\n",
       "      <td>-0.543535</td>\n",
       "      <td>0.329902</td>\n",
       "    </tr>\n",
       "    <tr>\n",
       "      <th>3</th>\n",
       "      <td>-1.175351</td>\n",
       "      <td>-0.919621</td>\n",
       "      <td>1.039393</td>\n",
       "      <td>-0.931201</td>\n",
       "      <td>0.064954</td>\n",
       "      <td>-0.791144</td>\n",
       "      <td>-0.872284</td>\n",
       "      <td>-0.560541</td>\n",
       "      <td>-0.652257</td>\n",
       "      <td>-0.501170</td>\n",
       "      <td>-0.582679</td>\n",
       "      <td>-0.751181</td>\n",
       "      <td>-0.173016</td>\n",
       "      <td>-0.761699</td>\n",
       "      <td>-0.909807</td>\n",
       "      <td>-0.552040</td>\n",
       "      <td>0.277041</td>\n",
       "      <td>-1.209839</td>\n",
       "    </tr>\n",
       "    <tr>\n",
       "      <th>4</th>\n",
       "      <td>0.289450</td>\n",
       "      <td>-0.308167</td>\n",
       "      <td>1.039393</td>\n",
       "      <td>-0.931201</td>\n",
       "      <td>0.064954</td>\n",
       "      <td>1.556012</td>\n",
       "      <td>-0.392466</td>\n",
       "      <td>0.421452</td>\n",
       "      <td>-0.220314</td>\n",
       "      <td>0.157970</td>\n",
       "      <td>-0.005080</td>\n",
       "      <td>-0.556749</td>\n",
       "      <td>1.377998</td>\n",
       "      <td>0.327032</td>\n",
       "      <td>0.111769</td>\n",
       "      <td>0.064793</td>\n",
       "      <td>-0.133247</td>\n",
       "      <td>-0.953215</td>\n",
       "    </tr>\n",
       "  </tbody>\n",
       "</table>\n",
       "</div>"
      ],
      "text/plain": [
       "     Income  Total_Spent   Kidhome  Teenhome  Children   Recency  MntWines  \\\n",
       "0  0.282276     1.672015 -0.826350 -0.931201 -1.275874  0.313400  0.975903   \n",
       "1 -0.263617    -0.962704  1.039393  0.899527  1.405781 -0.376940 -0.872284   \n",
       "2  0.905975     0.278430 -0.826350 -0.931201 -1.275874 -0.791144  0.356879   \n",
       "3 -1.175351    -0.919621  1.039393 -0.931201  0.064954 -0.791144 -0.872284   \n",
       "4  0.289450    -0.308167  1.039393 -0.931201  0.064954  1.556012 -0.392466   \n",
       "\n",
       "   MntFruits  MntMeatProducts  MntFishProducts  MntSweetProducts  \\\n",
       "0   1.554520         1.666131         2.464957          1.462986   \n",
       "1  -0.636079        -0.713963        -0.647645         -0.630813   \n",
       "2   0.572527        -0.180645         1.348082         -0.149480   \n",
       "3  -0.560541        -0.652257        -0.501170         -0.582679   \n",
       "4   0.421452        -0.220314         0.157970         -0.005080   \n",
       "\n",
       "   MntGoldProds  NumDealsPurchases  NumWebPurchases  NumCatalogPurchases  \\\n",
       "0      0.862602           0.343988         1.415762             2.495446   \n",
       "1     -0.731738          -0.173016        -1.124609            -0.569281   \n",
       "2     -0.031784          -0.690021         1.415762            -0.228756   \n",
       "3     -0.751181          -0.173016        -0.761699            -0.909807   \n",
       "4     -0.556749           1.377998         0.327032             0.111769   \n",
       "\n",
       "   NumStorePurchases  NumWebVisitsMonth       age  \n",
       "0          -0.552040           0.687328  0.928690  \n",
       "1          -1.168872          -0.133247  1.356396  \n",
       "2           1.298459          -0.543535  0.329902  \n",
       "3          -0.552040           0.277041 -1.209839  \n",
       "4           0.064793          -0.133247 -0.953215  "
      ]
     },
     "execution_count": 109,
     "metadata": {},
     "output_type": "execute_result"
    }
   ],
   "source": [
    "scaler = StandardScaler()\n",
    "df_scale = pd.DataFrame(scaler.fit_transform(df_to_scale), columns = columns_to_scale)\n",
    "df_scale.head()"
   ]
  },
  {
   "cell_type": "code",
   "execution_count": 110,
   "metadata": {},
   "outputs": [],
   "source": [
    "columns = [\"Education\",\"Marital_Status\",\"Has_child\"]\n",
    "df_to_oh = df[columns]\n",
    "df_oh = pd.get_dummies(df_to_oh).reset_index()\n",
    "\n",
    "\"\"\" concatenate the standardized dataset and the one hot encoded dataset \"\"\"\n",
    "df_pp = pd.concat([df_scale, df_oh], axis=1)\n"
   ]
  },
  {
   "cell_type": "markdown",
   "metadata": {},
   "source": [
    "## Models"
   ]
  },
  {
   "cell_type": "code",
   "execution_count": 111,
   "metadata": {},
   "outputs": [
    {
     "data": {
      "text/html": [
       "<div>\n",
       "<style scoped>\n",
       "    .dataframe tbody tr th:only-of-type {\n",
       "        vertical-align: middle;\n",
       "    }\n",
       "\n",
       "    .dataframe tbody tr th {\n",
       "        vertical-align: top;\n",
       "    }\n",
       "\n",
       "    .dataframe thead th {\n",
       "        text-align: right;\n",
       "    }\n",
       "</style>\n",
       "<table border=\"1\" class=\"dataframe\">\n",
       "  <thead>\n",
       "    <tr style=\"text-align: right;\">\n",
       "      <th></th>\n",
       "      <th>Income</th>\n",
       "      <th>Total_Spent</th>\n",
       "      <th>Kidhome</th>\n",
       "      <th>Teenhome</th>\n",
       "      <th>Children</th>\n",
       "      <th>Recency</th>\n",
       "      <th>MntWines</th>\n",
       "      <th>MntFruits</th>\n",
       "      <th>MntMeatProducts</th>\n",
       "      <th>MntFishProducts</th>\n",
       "      <th>...</th>\n",
       "      <th>NumStorePurchases</th>\n",
       "      <th>NumWebVisitsMonth</th>\n",
       "      <th>age</th>\n",
       "      <th>index</th>\n",
       "      <th>Education_Postgraduate</th>\n",
       "      <th>Education_Undergraduate</th>\n",
       "      <th>Marital_Status_couple</th>\n",
       "      <th>Marital_Status_single</th>\n",
       "      <th>Has_child_Has child</th>\n",
       "      <th>Has_child_No child</th>\n",
       "    </tr>\n",
       "  </thead>\n",
       "  <tbody>\n",
       "    <tr>\n",
       "      <th>0</th>\n",
       "      <td>0.282276</td>\n",
       "      <td>1.672015</td>\n",
       "      <td>-0.826350</td>\n",
       "      <td>-0.931201</td>\n",
       "      <td>-1.275874</td>\n",
       "      <td>0.313400</td>\n",
       "      <td>0.975903</td>\n",
       "      <td>1.554520</td>\n",
       "      <td>1.666131</td>\n",
       "      <td>2.464957</td>\n",
       "      <td>...</td>\n",
       "      <td>-0.552040</td>\n",
       "      <td>0.687328</td>\n",
       "      <td>0.928690</td>\n",
       "      <td>0</td>\n",
       "      <td>1</td>\n",
       "      <td>0</td>\n",
       "      <td>0</td>\n",
       "      <td>1</td>\n",
       "      <td>0</td>\n",
       "      <td>1</td>\n",
       "    </tr>\n",
       "    <tr>\n",
       "      <th>1</th>\n",
       "      <td>-0.263617</td>\n",
       "      <td>-0.962704</td>\n",
       "      <td>1.039393</td>\n",
       "      <td>0.899527</td>\n",
       "      <td>1.405781</td>\n",
       "      <td>-0.376940</td>\n",
       "      <td>-0.872284</td>\n",
       "      <td>-0.636079</td>\n",
       "      <td>-0.713963</td>\n",
       "      <td>-0.647645</td>\n",
       "      <td>...</td>\n",
       "      <td>-1.168872</td>\n",
       "      <td>-0.133247</td>\n",
       "      <td>1.356396</td>\n",
       "      <td>1</td>\n",
       "      <td>1</td>\n",
       "      <td>0</td>\n",
       "      <td>0</td>\n",
       "      <td>1</td>\n",
       "      <td>1</td>\n",
       "      <td>0</td>\n",
       "    </tr>\n",
       "    <tr>\n",
       "      <th>2</th>\n",
       "      <td>0.905975</td>\n",
       "      <td>0.278430</td>\n",
       "      <td>-0.826350</td>\n",
       "      <td>-0.931201</td>\n",
       "      <td>-1.275874</td>\n",
       "      <td>-0.791144</td>\n",
       "      <td>0.356879</td>\n",
       "      <td>0.572527</td>\n",
       "      <td>-0.180645</td>\n",
       "      <td>1.348082</td>\n",
       "      <td>...</td>\n",
       "      <td>1.298459</td>\n",
       "      <td>-0.543535</td>\n",
       "      <td>0.329902</td>\n",
       "      <td>2</td>\n",
       "      <td>1</td>\n",
       "      <td>0</td>\n",
       "      <td>1</td>\n",
       "      <td>0</td>\n",
       "      <td>0</td>\n",
       "      <td>1</td>\n",
       "    </tr>\n",
       "    <tr>\n",
       "      <th>3</th>\n",
       "      <td>-1.175351</td>\n",
       "      <td>-0.919621</td>\n",
       "      <td>1.039393</td>\n",
       "      <td>-0.931201</td>\n",
       "      <td>0.064954</td>\n",
       "      <td>-0.791144</td>\n",
       "      <td>-0.872284</td>\n",
       "      <td>-0.560541</td>\n",
       "      <td>-0.652257</td>\n",
       "      <td>-0.501170</td>\n",
       "      <td>...</td>\n",
       "      <td>-0.552040</td>\n",
       "      <td>0.277041</td>\n",
       "      <td>-1.209839</td>\n",
       "      <td>3</td>\n",
       "      <td>1</td>\n",
       "      <td>0</td>\n",
       "      <td>1</td>\n",
       "      <td>0</td>\n",
       "      <td>1</td>\n",
       "      <td>0</td>\n",
       "    </tr>\n",
       "    <tr>\n",
       "      <th>4</th>\n",
       "      <td>0.289450</td>\n",
       "      <td>-0.308167</td>\n",
       "      <td>1.039393</td>\n",
       "      <td>-0.931201</td>\n",
       "      <td>0.064954</td>\n",
       "      <td>1.556012</td>\n",
       "      <td>-0.392466</td>\n",
       "      <td>0.421452</td>\n",
       "      <td>-0.220314</td>\n",
       "      <td>0.157970</td>\n",
       "      <td>...</td>\n",
       "      <td>0.064793</td>\n",
       "      <td>-0.133247</td>\n",
       "      <td>-0.953215</td>\n",
       "      <td>4</td>\n",
       "      <td>1</td>\n",
       "      <td>0</td>\n",
       "      <td>1</td>\n",
       "      <td>0</td>\n",
       "      <td>1</td>\n",
       "      <td>0</td>\n",
       "    </tr>\n",
       "    <tr>\n",
       "      <th>...</th>\n",
       "      <td>...</td>\n",
       "      <td>...</td>\n",
       "      <td>...</td>\n",
       "      <td>...</td>\n",
       "      <td>...</td>\n",
       "      <td>...</td>\n",
       "      <td>...</td>\n",
       "      <td>...</td>\n",
       "      <td>...</td>\n",
       "      <td>...</td>\n",
       "      <td>...</td>\n",
       "      <td>...</td>\n",
       "      <td>...</td>\n",
       "      <td>...</td>\n",
       "      <td>...</td>\n",
       "      <td>...</td>\n",
       "      <td>...</td>\n",
       "      <td>...</td>\n",
       "      <td>...</td>\n",
       "      <td>...</td>\n",
       "      <td>...</td>\n",
       "    </tr>\n",
       "    <tr>\n",
       "      <th>2018</th>\n",
       "      <td>-1.167483</td>\n",
       "      <td>-0.970990</td>\n",
       "      <td>-0.826350</td>\n",
       "      <td>-0.931201</td>\n",
       "      <td>-1.275874</td>\n",
       "      <td>0.037264</td>\n",
       "      <td>-0.890055</td>\n",
       "      <td>-0.636079</td>\n",
       "      <td>-0.713963</td>\n",
       "      <td>-0.629336</td>\n",
       "      <td>...</td>\n",
       "      <td>-0.860456</td>\n",
       "      <td>-0.543535</td>\n",
       "      <td>-1.552003</td>\n",
       "      <td>2232</td>\n",
       "      <td>1</td>\n",
       "      <td>0</td>\n",
       "      <td>0</td>\n",
       "      <td>1</td>\n",
       "      <td>0</td>\n",
       "      <td>1</td>\n",
       "    </tr>\n",
       "    <tr>\n",
       "      <th>2019</th>\n",
       "      <td>0.425067</td>\n",
       "      <td>1.214667</td>\n",
       "      <td>-0.826350</td>\n",
       "      <td>0.899527</td>\n",
       "      <td>0.064954</td>\n",
       "      <td>-0.100804</td>\n",
       "      <td>1.195080</td>\n",
       "      <td>0.421452</td>\n",
       "      <td>0.061771</td>\n",
       "      <td>0.084732</td>\n",
       "      <td>...</td>\n",
       "      <td>-0.552040</td>\n",
       "      <td>-0.133247</td>\n",
       "      <td>0.158820</td>\n",
       "      <td>2235</td>\n",
       "      <td>1</td>\n",
       "      <td>0</td>\n",
       "      <td>1</td>\n",
       "      <td>0</td>\n",
       "      <td>1</td>\n",
       "      <td>0</td>\n",
       "    </tr>\n",
       "    <tr>\n",
       "      <th>2020</th>\n",
       "      <td>0.228724</td>\n",
       "      <td>1.048961</td>\n",
       "      <td>-0.826350</td>\n",
       "      <td>-0.931201</td>\n",
       "      <td>-1.275874</td>\n",
       "      <td>1.452461</td>\n",
       "      <td>1.784486</td>\n",
       "      <td>0.547348</td>\n",
       "      <td>0.216037</td>\n",
       "      <td>-0.098362</td>\n",
       "      <td>...</td>\n",
       "      <td>2.223709</td>\n",
       "      <td>0.277041</td>\n",
       "      <td>-0.953215</td>\n",
       "      <td>2237</td>\n",
       "      <td>1</td>\n",
       "      <td>0</td>\n",
       "      <td>0</td>\n",
       "      <td>1</td>\n",
       "      <td>0</td>\n",
       "      <td>1</td>\n",
       "    </tr>\n",
       "    <tr>\n",
       "      <th>2021</th>\n",
       "      <td>0.796371</td>\n",
       "      <td>0.389453</td>\n",
       "      <td>-0.826350</td>\n",
       "      <td>0.899527</td>\n",
       "      <td>0.064954</td>\n",
       "      <td>-1.412450</td>\n",
       "      <td>0.362803</td>\n",
       "      <td>0.094121</td>\n",
       "      <td>0.202814</td>\n",
       "      <td>0.780490</td>\n",
       "      <td>...</td>\n",
       "      <td>1.298459</td>\n",
       "      <td>-0.953823</td>\n",
       "      <td>1.185314</td>\n",
       "      <td>2238</td>\n",
       "      <td>1</td>\n",
       "      <td>0</td>\n",
       "      <td>1</td>\n",
       "      <td>0</td>\n",
       "      <td>1</td>\n",
       "      <td>0</td>\n",
       "    </tr>\n",
       "    <tr>\n",
       "      <th>2022</th>\n",
       "      <td>0.038397</td>\n",
       "      <td>-0.722431</td>\n",
       "      <td>1.039393</td>\n",
       "      <td>0.899527</td>\n",
       "      <td>1.405781</td>\n",
       "      <td>-0.307906</td>\n",
       "      <td>-0.656070</td>\n",
       "      <td>-0.585721</td>\n",
       "      <td>-0.471546</td>\n",
       "      <td>-0.647645</td>\n",
       "      <td>...</td>\n",
       "      <td>-0.552040</td>\n",
       "      <td>0.687328</td>\n",
       "      <td>1.185314</td>\n",
       "      <td>2239</td>\n",
       "      <td>1</td>\n",
       "      <td>0</td>\n",
       "      <td>1</td>\n",
       "      <td>0</td>\n",
       "      <td>1</td>\n",
       "      <td>0</td>\n",
       "    </tr>\n",
       "  </tbody>\n",
       "</table>\n",
       "<p>2023 rows × 25 columns</p>\n",
       "</div>"
      ],
      "text/plain": [
       "        Income  Total_Spent   Kidhome  Teenhome  Children   Recency  MntWines  \\\n",
       "0     0.282276     1.672015 -0.826350 -0.931201 -1.275874  0.313400  0.975903   \n",
       "1    -0.263617    -0.962704  1.039393  0.899527  1.405781 -0.376940 -0.872284   \n",
       "2     0.905975     0.278430 -0.826350 -0.931201 -1.275874 -0.791144  0.356879   \n",
       "3    -1.175351    -0.919621  1.039393 -0.931201  0.064954 -0.791144 -0.872284   \n",
       "4     0.289450    -0.308167  1.039393 -0.931201  0.064954  1.556012 -0.392466   \n",
       "...        ...          ...       ...       ...       ...       ...       ...   \n",
       "2018 -1.167483    -0.970990 -0.826350 -0.931201 -1.275874  0.037264 -0.890055   \n",
       "2019  0.425067     1.214667 -0.826350  0.899527  0.064954 -0.100804  1.195080   \n",
       "2020  0.228724     1.048961 -0.826350 -0.931201 -1.275874  1.452461  1.784486   \n",
       "2021  0.796371     0.389453 -0.826350  0.899527  0.064954 -1.412450  0.362803   \n",
       "2022  0.038397    -0.722431  1.039393  0.899527  1.405781 -0.307906 -0.656070   \n",
       "\n",
       "      MntFruits  MntMeatProducts  MntFishProducts  ...  NumStorePurchases  \\\n",
       "0      1.554520         1.666131         2.464957  ...          -0.552040   \n",
       "1     -0.636079        -0.713963        -0.647645  ...          -1.168872   \n",
       "2      0.572527        -0.180645         1.348082  ...           1.298459   \n",
       "3     -0.560541        -0.652257        -0.501170  ...          -0.552040   \n",
       "4      0.421452        -0.220314         0.157970  ...           0.064793   \n",
       "...         ...              ...              ...  ...                ...   \n",
       "2018  -0.636079        -0.713963        -0.629336  ...          -0.860456   \n",
       "2019   0.421452         0.061771         0.084732  ...          -0.552040   \n",
       "2020   0.547348         0.216037        -0.098362  ...           2.223709   \n",
       "2021   0.094121         0.202814         0.780490  ...           1.298459   \n",
       "2022  -0.585721        -0.471546        -0.647645  ...          -0.552040   \n",
       "\n",
       "      NumWebVisitsMonth       age  index  Education_Postgraduate  \\\n",
       "0              0.687328  0.928690      0                       1   \n",
       "1             -0.133247  1.356396      1                       1   \n",
       "2             -0.543535  0.329902      2                       1   \n",
       "3              0.277041 -1.209839      3                       1   \n",
       "4             -0.133247 -0.953215      4                       1   \n",
       "...                 ...       ...    ...                     ...   \n",
       "2018          -0.543535 -1.552003   2232                       1   \n",
       "2019          -0.133247  0.158820   2235                       1   \n",
       "2020           0.277041 -0.953215   2237                       1   \n",
       "2021          -0.953823  1.185314   2238                       1   \n",
       "2022           0.687328  1.185314   2239                       1   \n",
       "\n",
       "      Education_Undergraduate  Marital_Status_couple  Marital_Status_single  \\\n",
       "0                           0                      0                      1   \n",
       "1                           0                      0                      1   \n",
       "2                           0                      1                      0   \n",
       "3                           0                      1                      0   \n",
       "4                           0                      1                      0   \n",
       "...                       ...                    ...                    ...   \n",
       "2018                        0                      0                      1   \n",
       "2019                        0                      1                      0   \n",
       "2020                        0                      0                      1   \n",
       "2021                        0                      1                      0   \n",
       "2022                        0                      1                      0   \n",
       "\n",
       "      Has_child_Has child  Has_child_No child  \n",
       "0                       0                   1  \n",
       "1                       1                   0  \n",
       "2                       0                   1  \n",
       "3                       1                   0  \n",
       "4                       1                   0  \n",
       "...                   ...                 ...  \n",
       "2018                    0                   1  \n",
       "2019                    1                   0  \n",
       "2020                    0                   1  \n",
       "2021                    1                   0  \n",
       "2022                    1                   0  \n",
       "\n",
       "[2023 rows x 25 columns]"
      ]
     },
     "execution_count": 111,
     "metadata": {},
     "output_type": "execute_result"
    }
   ],
   "source": [
    "df_pp"
   ]
  },
  {
   "cell_type": "code",
   "execution_count": 112,
   "metadata": {},
   "outputs": [],
   "source": [
    "# df[\"Total_Spent\"] = df[\"MntWines\"] + df[\"MntMeatProducts\"] + df[\"MntFruits\"] + df[\"MntFishProducts\"] + df[\"MntSweetProducts\"] + df[\"MntGoldProds\"]\n",
    "\n",
    "# dummies = pd.get_dummies(df[[\"age\",\"Income\", \"Children\", \"Education\", \"Marital_Status\",\n",
    "#         \"Recency\",\"NumDealsPurchases\", \"NumWebPurchases\", \"NumCatalogPurchases\", \n",
    "#         \"NumStorePurchases\", \"NumWebVisitsMonth\"]])\n",
    "\n",
    "\n",
    "X = df_pp[[\"Income\",\"Recency\",\"age\" ,\"Education_Postgraduate\",\"Education_Undergraduate\",\"Marital_Status_couple\",\"Marital_Status_single\",\"Has_child_Has child\",\"Has_child_No child\"]]\n",
    "y = df[\"Total_Spent\"]\n"
   ]
  },
  {
   "cell_type": "code",
   "execution_count": 113,
   "metadata": {},
   "outputs": [],
   "source": [
    "X_train, X_test, y_train, y_test = train_test_split(X, y, test_size=0.2, random_state=1)"
   ]
  },
  {
   "cell_type": "code",
   "execution_count": 114,
   "metadata": {},
   "outputs": [
    {
     "data": {
      "text/plain": [
       "LinearRegression()"
      ]
     },
     "execution_count": 114,
     "metadata": {},
     "output_type": "execute_result"
    }
   ],
   "source": [
    "lm = linear_model.LinearRegression()\n",
    "model = lm.fit(X_train.values, y_train.values)\n",
    "model"
   ]
  },
  {
   "cell_type": "code",
   "execution_count": 115,
   "metadata": {},
   "outputs": [],
   "source": [
    "predictions = lm.predict(X_test)"
   ]
  },
  {
   "cell_type": "code",
   "execution_count": 116,
   "metadata": {},
   "outputs": [
    {
     "data": {
      "text/plain": [
       "Text(0, 0.5, 'Predictions')"
      ]
     },
     "execution_count": 116,
     "metadata": {},
     "output_type": "execute_result"
    },
    {
     "data": {
      "image/png": "[encoded data removed]",
      "text/plain": [
       "<Figure size 432x288 with 1 Axes>"
      ]
     },
     "metadata": {
      "needs_background": "light"
     },
     "output_type": "display_data"
    }
   ],
   "source": [
    "plt.scatter(y_test, predictions)\n",
    "plt.xlabel(\"True Values\")\n",
    "plt.ylabel(\"Predictions\")"
   ]
  },
  {
   "cell_type": "code",
   "execution_count": 117,
   "metadata": {},
   "outputs": [
    {
     "data": {
      "text/plain": [
       "0.7335639743068307"
      ]
     },
     "execution_count": 117,
     "metadata": {},
     "output_type": "execute_result"
    }
   ],
   "source": [
    "lm.score(X_test, y_test)"
   ]
  },
  {
   "cell_type": "code",
   "execution_count": 118,
   "metadata": {},
   "outputs": [
    {
     "ename": "ValueError",
     "evalue": "matmul: Input operand 1 has a mismatch in its core dimension 0, with gufunc signature (n?,k),(k,m?)->(n?,m?) (size 9 is different from 13)",
     "output_type": "error",
     "traceback": [
      "\u001b[1;31m---------------------------------------------------------------------------\u001b[0m",
      "\u001b[1;31mValueError\u001b[0m                                Traceback (most recent call last)",
      "\u001b[1;32m<ipython-input-118-40f44f71374b>\u001b[0m in \u001b[0;36m<module>\u001b[1;34m\u001b[0m\n\u001b[0;32m      1\u001b[0m \u001b[1;31m#ex\u001b[0m\u001b[1;33m\u001b[0m\u001b[1;33m\u001b[0m\u001b[1;33m\u001b[0m\u001b[0m\n\u001b[1;32m----> 2\u001b[1;33m \u001b[0mprint\u001b[0m\u001b[1;33m(\u001b[0m\u001b[1;34m\"Would spend \"\u001b[0m \u001b[1;33m+\u001b[0m \u001b[0mstr\u001b[0m\u001b[1;33m(\u001b[0m\u001b[0mlm\u001b[0m\u001b[1;33m.\u001b[0m\u001b[0mpredict\u001b[0m\u001b[1;33m(\u001b[0m\u001b[0mnp\u001b[0m\u001b[1;33m.\u001b[0m\u001b[0marray\u001b[0m\u001b[1;33m(\u001b[0m\u001b[1;33m[\u001b[0m\u001b[1;33m[\u001b[0m\u001b[1;36m25\u001b[0m\u001b[1;33m,\u001b[0m\u001b[1;36m60000\u001b[0m\u001b[1;33m,\u001b[0m\u001b[1;36m1\u001b[0m\u001b[1;33m,\u001b[0m\u001b[1;36m20\u001b[0m\u001b[1;33m,\u001b[0m\u001b[1;36m4\u001b[0m\u001b[1;33m,\u001b[0m\u001b[1;36m3\u001b[0m\u001b[1;33m,\u001b[0m\u001b[1;36m1\u001b[0m\u001b[1;33m,\u001b[0m\u001b[1;36m1\u001b[0m\u001b[1;33m,\u001b[0m\u001b[1;36m3\u001b[0m\u001b[1;33m,\u001b[0m\u001b[1;36m1\u001b[0m\u001b[1;33m,\u001b[0m\u001b[1;36m0\u001b[0m\u001b[1;33m,\u001b[0m\u001b[1;36m0\u001b[0m\u001b[1;33m,\u001b[0m\u001b[1;36m1\u001b[0m\u001b[1;33m]\u001b[0m\u001b[1;33m]\u001b[0m\u001b[1;33m)\u001b[0m\u001b[1;33m)\u001b[0m\u001b[1;33m[\u001b[0m\u001b[1;36m0\u001b[0m\u001b[1;33m]\u001b[0m\u001b[1;33m)\u001b[0m\u001b[1;33m)\u001b[0m\u001b[1;33m\u001b[0m\u001b[1;33m\u001b[0m\u001b[0m\n\u001b[0m",
      "\u001b[1;32m~\\anaconda3\\lib\\site-packages\\sklearn\\linear_model\\_base.py\u001b[0m in \u001b[0;36mpredict\u001b[1;34m(self, X)\u001b[0m\n\u001b[0;32m    234\u001b[0m             \u001b[0mReturns\u001b[0m \u001b[0mpredicted\u001b[0m \u001b[0mvalues\u001b[0m\u001b[1;33m.\u001b[0m\u001b[1;33m\u001b[0m\u001b[1;33m\u001b[0m\u001b[0m\n\u001b[0;32m    235\u001b[0m         \"\"\"\n\u001b[1;32m--> 236\u001b[1;33m         \u001b[1;32mreturn\u001b[0m \u001b[0mself\u001b[0m\u001b[1;33m.\u001b[0m\u001b[0m_decision_function\u001b[0m\u001b[1;33m(\u001b[0m\u001b[0mX\u001b[0m\u001b[1;33m)\u001b[0m\u001b[1;33m\u001b[0m\u001b[1;33m\u001b[0m\u001b[0m\n\u001b[0m\u001b[0;32m    237\u001b[0m \u001b[1;33m\u001b[0m\u001b[0m\n\u001b[0;32m    238\u001b[0m     \u001b[0m_preprocess_data\u001b[0m \u001b[1;33m=\u001b[0m \u001b[0mstaticmethod\u001b[0m\u001b[1;33m(\u001b[0m\u001b[0m_preprocess_data\u001b[0m\u001b[1;33m)\u001b[0m\u001b[1;33m\u001b[0m\u001b[1;33m\u001b[0m\u001b[0m\n",
      "\u001b[1;32m~\\anaconda3\\lib\\site-packages\\sklearn\\linear_model\\_base.py\u001b[0m in \u001b[0;36m_decision_function\u001b[1;34m(self, X)\u001b[0m\n\u001b[0;32m    217\u001b[0m \u001b[1;33m\u001b[0m\u001b[0m\n\u001b[0;32m    218\u001b[0m         \u001b[0mX\u001b[0m \u001b[1;33m=\u001b[0m \u001b[0mcheck_array\u001b[0m\u001b[1;33m(\u001b[0m\u001b[0mX\u001b[0m\u001b[1;33m,\u001b[0m \u001b[0maccept_sparse\u001b[0m\u001b[1;33m=\u001b[0m\u001b[1;33m[\u001b[0m\u001b[1;34m'csr'\u001b[0m\u001b[1;33m,\u001b[0m \u001b[1;34m'csc'\u001b[0m\u001b[1;33m,\u001b[0m \u001b[1;34m'coo'\u001b[0m\u001b[1;33m]\u001b[0m\u001b[1;33m)\u001b[0m\u001b[1;33m\u001b[0m\u001b[1;33m\u001b[0m\u001b[0m\n\u001b[1;32m--> 219\u001b[1;33m         return safe_sparse_dot(X, self.coef_.T,\n\u001b[0m\u001b[0;32m    220\u001b[0m                                dense_output=True) + self.intercept_\n\u001b[0;32m    221\u001b[0m \u001b[1;33m\u001b[0m\u001b[0m\n",
      "\u001b[1;32m~\\anaconda3\\lib\\site-packages\\sklearn\\utils\\validation.py\u001b[0m in \u001b[0;36minner_f\u001b[1;34m(*args, **kwargs)\u001b[0m\n\u001b[0;32m     71\u001b[0m                           FutureWarning)\n\u001b[0;32m     72\u001b[0m         \u001b[0mkwargs\u001b[0m\u001b[1;33m.\u001b[0m\u001b[0mupdate\u001b[0m\u001b[1;33m(\u001b[0m\u001b[1;33m{\u001b[0m\u001b[0mk\u001b[0m\u001b[1;33m:\u001b[0m \u001b[0marg\u001b[0m \u001b[1;32mfor\u001b[0m \u001b[0mk\u001b[0m\u001b[1;33m,\u001b[0m \u001b[0marg\u001b[0m \u001b[1;32min\u001b[0m \u001b[0mzip\u001b[0m\u001b[1;33m(\u001b[0m\u001b[0msig\u001b[0m\u001b[1;33m.\u001b[0m\u001b[0mparameters\u001b[0m\u001b[1;33m,\u001b[0m \u001b[0margs\u001b[0m\u001b[1;33m)\u001b[0m\u001b[1;33m}\u001b[0m\u001b[1;33m)\u001b[0m\u001b[1;33m\u001b[0m\u001b[1;33m\u001b[0m\u001b[0m\n\u001b[1;32m---> 73\u001b[1;33m         \u001b[1;32mreturn\u001b[0m \u001b[0mf\u001b[0m\u001b[1;33m(\u001b[0m\u001b[1;33m**\u001b[0m\u001b[0mkwargs\u001b[0m\u001b[1;33m)\u001b[0m\u001b[1;33m\u001b[0m\u001b[1;33m\u001b[0m\u001b[0m\n\u001b[0m\u001b[0;32m     74\u001b[0m     \u001b[1;32mreturn\u001b[0m \u001b[0minner_f\u001b[0m\u001b[1;33m\u001b[0m\u001b[1;33m\u001b[0m\u001b[0m\n\u001b[0;32m     75\u001b[0m \u001b[1;33m\u001b[0m\u001b[0m\n",
      "\u001b[1;32m~\\anaconda3\\lib\\site-packages\\sklearn\\utils\\extmath.py\u001b[0m in \u001b[0;36msafe_sparse_dot\u001b[1;34m(a, b, dense_output)\u001b[0m\n\u001b[0;32m    151\u001b[0m             \u001b[0mret\u001b[0m \u001b[1;33m=\u001b[0m \u001b[0mnp\u001b[0m\u001b[1;33m.\u001b[0m\u001b[0mdot\u001b[0m\u001b[1;33m(\u001b[0m\u001b[0ma\u001b[0m\u001b[1;33m,\u001b[0m \u001b[0mb\u001b[0m\u001b[1;33m)\u001b[0m\u001b[1;33m\u001b[0m\u001b[1;33m\u001b[0m\u001b[0m\n\u001b[0;32m    152\u001b[0m     \u001b[1;32melse\u001b[0m\u001b[1;33m:\u001b[0m\u001b[1;33m\u001b[0m\u001b[1;33m\u001b[0m\u001b[0m\n\u001b[1;32m--> 153\u001b[1;33m         \u001b[0mret\u001b[0m \u001b[1;33m=\u001b[0m \u001b[0ma\u001b[0m \u001b[1;33m@\u001b[0m \u001b[0mb\u001b[0m\u001b[1;33m\u001b[0m\u001b[1;33m\u001b[0m\u001b[0m\n\u001b[0m\u001b[0;32m    154\u001b[0m \u001b[1;33m\u001b[0m\u001b[0m\n\u001b[0;32m    155\u001b[0m     if (sparse.issparse(a) and sparse.issparse(b)\n",
      "\u001b[1;31mValueError\u001b[0m: matmul: Input operand 1 has a mismatch in its core dimension 0, with gufunc signature (n?,k),(k,m?)->(n?,m?) (size 9 is different from 13)"
     ]
    }
   ],
   "source": [
    "#ex\n",
    "print(\"Would spend \" + str(lm.predict(np.array([[25,60000,1,20,4,3,1,1,3,1,0,0,1]]))[0]))"
   ]
  },
  {
   "cell_type": "code",
   "execution_count": null,
   "metadata": {},
   "outputs": [],
   "source": []
  },
  {
   "cell_type": "code",
   "execution_count": null,
   "metadata": {},
   "outputs": [],
   "source": []
  }
 ],
 "metadata": {
  "kernelspec": {
   "display_name": "Python 3",
   "language": "python",
   "name": "python3"
  },
  "language_info": {
   "codemirror_mode": {
    "name": "ipython",
    "version": 3
   },
   "file_extension": ".py",
   "mimetype": "text/x-python",
   "name": "python",
   "nbconvert_exporter": "python",
   "pygments_lexer": "ipython3",
   "version": "3.8.3"
  }
 },
 "nbformat": 4,
 "nbformat_minor": 4
}
